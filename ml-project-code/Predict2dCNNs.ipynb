{
 "cells": [
  {
   "cell_type": "code",
   "execution_count": 2,
   "metadata": {
    "scrolled": true
   },
   "outputs": [],
   "source": [
    "from keras.models import Sequential\n",
    "from keras.layers import Dense, Dropout, Activation, Flatten\n",
    "from keras.layers import Convolution3D, MaxPooling3D, Convolution2D, AveragePooling2D, MaxPooling2D, ZeroPadding3D, ZeroPadding2D\n",
    "from keras.utils import np_utils\n",
    "from keras import backend as K\n",
    "from keras.preprocessing.image import ImageDataGenerator\n",
    "from keras.callbacks import EarlyStopping, ReduceLROnPlateau\n",
    "import cv2\n",
    "import operator\n",
    "from tqdm import tqdm_notebook as tqdm\n",
    "import keras\n",
    "import os\n",
    "os.environ[\"CUDA_DEVICE_ORDER\"]=\"PCI_BUS_ID\"\n",
    "os.environ[\"CUDA_VISIBLE_DEVICES\"]=\"1\"\n",
    "\n",
    "from scipy import stats\n",
    "import pandas as pd\n",
    "import numpy as np\n",
    "\n",
    "from keras.models import model_from_json\n",
    "import random\n",
    "from sklearn.metrics import confusion_matrix, recall_score, accuracy_score\n",
    "import matplotlib.pyplot as plt\n",
    "import gc\n",
    "from sklearn.utils.multiclass import unique_labels\n",
    "\n",
    "from sklearn.metrics import confusion_matrix\n",
    "from tools import *\n",
    "# Models\n",
    "from models_keras import CNNT4, CNNT5, VGG_11"
   ]
  },
  {
   "cell_type": "markdown",
   "metadata": {},
   "source": [
    "## Load test set from one of the configurations"
   ]
  },
  {
   "cell_type": "code",
   "execution_count": 3,
   "metadata": {},
   "outputs": [],
   "source": [
    "testset_config = 'D1'  # or 'D2'\n",
    "\n",
    "val_non = pd.read_csv('data/val_data_0_{}.csv'.format(testset_config))\n",
    "val_nod = pd.read_csv('data/val_data_1.csv')\n",
    "\n",
    "candidates_val = pd.concat([val_non, val_nod])"
   ]
  },
  {
   "cell_type": "code",
   "execution_count": 4,
   "metadata": {},
   "outputs": [
    {
     "data": {
      "application/vnd.jupyter.widget-view+json": {
       "model_id": "7e986b578d9c4a16bc18fbae2f5a88df",
       "version_major": 2,
       "version_minor": 0
      },
      "text/plain": [
       "HBox(children=(IntProgress(value=1, bar_style='info', max=1), HTML(value='')))"
      ]
     },
     "metadata": {},
     "output_type": "display_data"
    },
    {
     "name": "stdout",
     "output_type": "stream",
     "text": [
      "\n"
     ]
    }
   ],
   "source": [
    "# Load 2-D DATA\n",
    "\n",
    "X_test, Y_test = [], []\n",
    "val_mean, val_names = [], []\n",
    "\n",
    "for row in tqdm(candidates_val.iterrows()):\n",
    "    image = row[1]\n",
    "    y_class = int(image['class'])\n",
    "    lung_img = np.load(image['filename'])\n",
    "    if lung_img.shape[0] == 32:\n",
    "        X = lung_img[16, :, :].reshape((32, 32))\n",
    "        val_mean.append(np.mean(X))\n",
    "        if np.mean(X) > 1:\n",
    "            X_test.append(X.reshape((32, 32, 1))), Y_test.append(y_class)\n",
    "            val_names.append(image['filename'])\n",
    "\n",
    "X_test, Y_test = np.array(X_test), np.array(Y_test)\n",
    "Y_test = np_utils.to_categorical(Y_test, 2)"
   ]
  },
  {
   "cell_type": "code",
   "execution_count": 5,
   "metadata": {},
   "outputs": [
    {
     "data": {
      "text/plain": [
       "((16705, 32, 32, 1), (16705, 2))"
      ]
     },
     "execution_count": 5,
     "metadata": {},
     "output_type": "execute_result"
    }
   ],
   "source": [
    "X_test.shape, Y_test.shape"
   ]
  },
  {
   "cell_type": "code",
   "execution_count": 6,
   "metadata": {},
   "outputs": [],
   "source": [
    "# Range changing\n",
    "# [-1, 1]\n",
    "# X_test_range = X_test*np.std(X_test)+np.mean(X_test)\n",
    "# [0, 1]\n",
    "X_test_range = (X_test-np.mean(X_test))/np.std(X_test)"
   ]
  },
  {
   "cell_type": "markdown",
   "metadata": {},
   "source": [
    "## Load a model with trained weights"
   ]
  },
  {
   "cell_type": "code",
   "execution_count": 10,
   "metadata": {},
   "outputs": [],
   "source": [
    "model_name = 'cnnt5_{}'.format(testset_config)\n",
    "\n",
    "LOGS = '/SubmitModels/'\n",
    "json_file = open(LOGS+\"{}.json\".format(model_name), 'r')\n",
    "loaded_model_json = json_file.read()\n",
    "json_file.close()\n",
    "loaded_model = model_from_json(loaded_model_json)\n",
    "loaded_model.load_weights(LOGS+'{}.h5'.format(model_name))"
   ]
  },
  {
   "cell_type": "code",
   "execution_count": 11,
   "metadata": {},
   "outputs": [
    {
     "name": "stdout",
     "output_type": "stream",
     "text": [
      "Confusion matrix, without normalization\n",
      "[[7624 1116]\n",
      " [1166 6799]]\n"
     ]
    },
    {
     "data": {
      "text/plain": [
       "<matplotlib.axes._subplots.AxesSubplot at 0x7fb381c66588>"
      ]
     },
     "execution_count": 11,
     "metadata": {},
     "output_type": "execute_result"
    },
    {
     "data": {
      "image/png": "[encoded data removed]",
      "text/plain": [
       "<matplotlib.figure.Figure at 0x7fb382dfd9e8>"
      ]
     },
     "metadata": {
      "needs_background": "light"
     },
     "output_type": "display_data"
    }
   ],
   "source": [
    "# Measure predictions\n",
    "predicted = np.argmax(loaded_model.predict(X_test_range), axis=-1)\n",
    "\n",
    "# Plot non-normalized confusion matrix\n",
    "plot_confusion_matrix(np.argmax(Y_test, axis=-1), predicted, title='Confusion matrix for validation')"
   ]
  },
  {
   "cell_type": "code",
   "execution_count": 12,
   "metadata": {},
   "outputs": [
    {
     "data": {
      "text/plain": [
       "(0.8536095417451349, 0.8633941933552829)"
      ]
     },
     "execution_count": 12,
     "metadata": {},
     "output_type": "execute_result"
    }
   ],
   "source": [
    "recall_score(np.argmax(Y_test, axis=-1), predicted),accuracy_score(np.argmax(Y_test, axis=-1), predicted) "
   ]
  },
  {
   "cell_type": "code",
   "execution_count": null,
   "metadata": {},
   "outputs": [],
   "source": []
  }
 ],
 "metadata": {
  "kernelspec": {
   "display_name": "Python 3",
   "language": "python",
   "name": "python3"
  },
  "language_info": {
   "codemirror_mode": {
    "name": "ipython",
    "version": 3
   },
   "file_extension": ".py",
   "mimetype": "text/x-python",
   "name": "python",
   "nbconvert_exporter": "python",
   "pygments_lexer": "ipython3",
   "version": "3.7.4"
  }
 },
 "nbformat": 4,
 "nbformat_minor": 2
}
